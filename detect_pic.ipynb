{
 "cells": [
  {
   "cell_type": "code",
   "execution_count": 51,
   "metadata": {},
   "outputs": [],
   "source": [
    "import cv2\n",
    "import os\n",
    "import time\n",
    "face_classifier = cv2.CascadeClassifier('haarcascade_frontalface_default.xml')\n",
    "\n",
    "# importing libraries \n",
    "import face_recognition\n",
    "import docopt \n",
    "from sklearn import svm\n",
    "import pickle\n",
    "import boto3\n",
    "import pandas as pd\n",
    "from firebase import firebase"
   ]
  },
  {
   "cell_type": "code",
   "execution_count": 52,
   "metadata": {},
   "outputs": [],
   "source": [
    "face_classifier = cv2.CascadeClassifier('haarcascade_frontalface_default.xml')\n",
    "firebase = firebase.FirebaseApplication('https://name.firebaseio.com/', None)\n",
    "s3 = boto3.resource(\n",
    "    service_name='s3',\n",
    "    region_name='us-east-2',\n",
    "    aws_access_key_id='key',\n",
    "    aws_secret_access_key='key'\n",
    ")"
   ]
  },
  {
   "cell_type": "code",
   "execution_count": null,
   "metadata": {},
   "outputs": [],
   "source": []
  },
  {
   "cell_type": "code",
   "execution_count": 53,
   "metadata": {},
   "outputs": [],
   "source": [
    "\n",
    "import datetime\n",
    "\n",
    "x = datetime.datetime.now()\n",
    "secondval=time.time()\n",
    "result2=time.localtime(secondval)\n",
    "\n",
    "\n",
    "\n",
    "\n",
    "\n",
    "def upload_photo(dir):\n",
    "    count = 0\n",
    "    for obj in s3.Bucket('rohithalto').objects.all():\n",
    "        count = count+1\n",
    "    data =  { 'val': count+1  \n",
    "             }\n",
    "    data2 = {'date': str(x.day) +'-'+ str(x.month) +'-'+str(x.year),\n",
    "             'time': str(result2.tm_hour)+\":\"+str(result2.tm_min),\n",
    "             'room':2\n",
    "        \n",
    "    }\n",
    "    result = firebase.post('/count/',data)\n",
    "    res = firebase.post('/unknown/',data2)\n",
    "    print(result)\n",
    "    s3.Bucket('rohithalto').upload_file(Filename=dir, Key=str(count+1)+'.png')"
   ]
  },
  {
   "cell_type": "code",
   "execution_count": 54,
   "metadata": {},
   "outputs": [],
   "source": [
    "def face_recognize(test):\n",
    "\tfilename = 'svm_trained_lessdata.sav'\n",
    "\tclf = pickle.load(open(filename, 'rb'))\n",
    "\t# Load the test image with unknown faces into a numpy array \n",
    "\ttest_image = face_recognition.load_image_file(test) \n",
    "\n",
    "\t# Find all the faces in the test image using the default HOG-based model \n",
    "\tface_locations = face_recognition.face_locations(test_image)\n",
    "\tno = len(face_locations)\n",
    "\n",
    "\tif no==1:\n",
    "\t\tfor i in range(no):\n",
    "\t\t\ttest_image_enc = face_recognition.face_encodings(test_image)[i] \n",
    "\t\t\tname = clf.predict([test_image_enc]) \n",
    "\t\t\tpredmat = (clf.predict_proba([test_image_enc]))\n",
    "\t\t\t#print((predmat[0][3]))\n",
    "\t\t\tif (predmat[0][3])>0.70:\n",
    "\t\t\t\treturn 1\n",
    "\t\t\telif (predmat[0][0])>0.70:\n",
    "\t\t\t\treturn 4\n",
    "\t\t\telif (predmat[0][2])>0.70:\n",
    "\t\t\t\treturn 2\n",
    "\t\t\telif (predmat[0][1])>0.70:\n",
    "\t\t\t\treturn 3\n",
    "\t\t\telse:\n",
    "\t\t\t\treturn 5"
   ]
  },
  {
   "cell_type": "code",
   "execution_count": null,
   "metadata": {},
   "outputs": [],
   "source": []
  },
  {
   "cell_type": "code",
   "execution_count": 55,
   "metadata": {},
   "outputs": [],
   "source": [
    "def face_recognize2(dir): \n",
    "\tcount2 = []\n",
    "\t# Training the SVC classifier \n",
    "\t# The training data would be all the \n",
    "\t# face encodings from all the known \n",
    "\t# images and the labels are their names \n",
    "\tencodings = [] \n",
    "\tnames = [] \n",
    "\t# Training directory \n",
    "\tif dir[-1]!='/': \n",
    "\t\tdir += '/'\n",
    "\ttrain_dir = os.listdir(dir) \n",
    "\t# Loop through each person in the training directory \n",
    "\tfor person in train_dir: \n",
    "\t\t\tpred = (face_recognize(dir+person))\n",
    "\t\t\tcount2.append(pred)\n",
    "\treturn count2"
   ]
  },
  {
   "cell_type": "code",
   "execution_count": 56,
   "metadata": {},
   "outputs": [],
   "source": [
    "def face_extractor(img):\n",
    "    faces = face_classifier.detectMultiScale(img, 1.3, 5)\n",
    "    if faces is ():\n",
    "        return None\n",
    "    for (x, y, w, h) in faces:\n",
    "        x = x - 10\n",
    "        y = y - 10\n",
    "        cropped_face = img[y:y + h + 50, x:x + w + 50]\n",
    "    return cropped_face"
   ]
  },
  {
   "cell_type": "code",
   "execution_count": 57,
   "metadata": {
    "scrolled": true
   },
   "outputs": [
    {
     "name": "stdout",
     "output_type": "stream",
     "text": [
      "11-18-0-40-45\n",
      "Successfully created the directory 10im/11-18-0-40-45 \n",
      "Face not found\n",
      "Face not found\n",
      "Collecting Samples Complete\n"
     ]
    }
   ],
   "source": [
    "path='10im/'\n",
    "second=time.time()\n",
    "result=time.localtime(second)\n",
    "i=str(result.tm_mon)+\"-\"+str(result.tm_mday)+\"-\"+str(result.tm_hour)+\"-\"+str(result.tm_min)+\"-\"+str(result.tm_sec)\n",
    "print(i)\n",
    "path_temp=path = os.path.join(path,i) \n",
    "try:\n",
    "    os.mkdir(path_temp)\n",
    "except OSError:\n",
    "        print (\"Creation of the directory %s failed\" % path)\n",
    "else:\n",
    "    print (\"Successfully created the directory %s \" % path)\n",
    "cap = cv2.VideoCapture(0)\n",
    "count1 = 0\n",
    "while True:\n",
    "    ret, frame = cap.read()\n",
    "    if face_extractor(frame) is not None:\n",
    "        count1 += 1\n",
    "        face = cv2.resize(face_extractor(frame), (400, 400))\n",
    "        temp_name=str(count1)+'.jpg'\n",
    "        file_name_path = os.path.join(path_temp, temp_name)\n",
    "        cv2.imwrite(file_name_path, face)\n",
    "        cv2.putText(face, str(count1), (50, 50), cv2.FONT_HERSHEY_COMPLEX, 1, (0, 255, 0), 2)\n",
    "        cv2.imshow('Face Cropper', face)\n",
    "        time.sleep(0.1)\n",
    "    else:\n",
    "        print(\"Face not found\")\n",
    "        pass\n",
    "    if cv2.waitKey(1) == 13 or count1 == 10:  # 13 is the Enter Key\n",
    "        break\n",
    "cap.release()\n",
    "cv2.destroyAllWindows()\n",
    "print(\"Collecting Samples Complete\")"
   ]
  },
  {
   "cell_type": "code",
   "execution_count": 58,
   "metadata": {},
   "outputs": [
    {
     "name": "stdout",
     "output_type": "stream",
     "text": [
      "rohith\n",
      "[1, 1, 1, 1, 1, 1, 1, 1, 1, 1]\n"
     ]
    }
   ],
   "source": [
    "val = face_recognize2('10im/'+i)\n",
    "predval = max(set(val), key = val.count)\n",
    "temp_file='5.jpg'\n",
    "upload_photo_path=os.path.join(path_temp, temp_file)\n",
    "if predval==1:\n",
    "    print('rohith')\n",
    "    name='rohith'\n",
    "    mynew = \"Accepted\"\n",
    "elif predval==2:\n",
    "    print('manohar')\n",
    "    name='manohar'\n",
    "    mynew = \"Accepted\"\n",
    "elif predval==3:\n",
    "    print('madhan')\n",
    "    name='madhan'\n",
    "    mynew = \"Accepted\"\n",
    "elif predval==4:\n",
    "    print('hemasai')\n",
    "    name='hemasai'\n",
    "    mynew = \"Accepted\"\n",
    "else :\n",
    "    print('unknown')\n",
    "    name='unknown'\n",
    "    mynew = \"-\"\n",
    "    upload_photo(upload_photo_path)\n",
    "print(val)"
   ]
  },
  {
   "cell_type": "code",
   "execution_count": 59,
   "metadata": {},
   "outputs": [],
   "source": [
    "now_time=str(result.tm_hour)+\":\"+str(result.tm_min)\n",
    "\n",
    "yx = datetime.datetime.now()\n",
    "data =  { 'Name': name,\n",
    "          'time': now_time,\n",
    "          'access': str(yx.day) +'-'+ str(yx.month) +'-'+str(yx.year),\n",
    "          'message':mynew\n",
    "          }\n",
    "result = firebase.post('/room1/',data)"
   ]
  },
  {
   "cell_type": "code",
   "execution_count": null,
   "metadata": {},
   "outputs": [],
   "source": []
  },
  {
   "cell_type": "code",
   "execution_count": null,
   "metadata": {},
   "outputs": [],
   "source": []
  }
 ],
 "metadata": {
  "kernelspec": {
   "display_name": "Python 3",
   "language": "python",
   "name": "python3"
  },
  "language_info": {
   "codemirror_mode": {
    "name": "ipython",
    "version": 3
   },
   "file_extension": ".py",
   "mimetype": "text/x-python",
   "name": "python",
   "nbconvert_exporter": "python",
   "pygments_lexer": "ipython3",
   "version": "3.6.9"
  }
 },
 "nbformat": 4,
 "nbformat_minor": 4
}
