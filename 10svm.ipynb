{
 "cells": [
  {
   "cell_type": "code",
   "execution_count": 69,
   "metadata": {},
   "outputs": [],
   "source": [
    "# importing libraries \n",
    "import face_recognition\n",
    "import docopt \n",
    "from sklearn import svm\n",
    "import os \n",
    "import pickle\n",
    "count = []"
   ]
  },
  {
   "cell_type": "code",
   "execution_count": 70,
   "metadata": {},
   "outputs": [],
   "source": [
    "def face_recognize(test):\n",
    "\tfilename = 'svm_trained_lessdata.sav'\n",
    "\tclf = pickle.load(open(filename, 'rb'))\n",
    "\t# Load the test image with unknown faces into a numpy array \n",
    "\ttest_image = face_recognition.load_image_file(test) \n",
    "\n",
    "\t# Find all the faces in the test image using the default HOG-based model \n",
    "\tface_locations = face_recognition.face_locations(test_image)\n",
    "\tno = len(face_locations)\n",
    "    \n",
    "\tfor i in range(no):\n",
    "\t\ttest_image_enc = face_recognition.face_encodings(test_image)[i] \n",
    "\t\tname = clf.predict([test_image_enc]) \n",
    "\t\tprediction=clf.predict([test_image_enc])\n",
    "\t\tif(name =='hemasai'):\n",
    "\t\t\treturn 4\n",
    "\t\telif(name=='manohar'):\n",
    "\t\t\treturn 2\n",
    "\t\telif(name=='rohith' and prediction=='rohith'):\n",
    "\t\t\treturn 1\n",
    "\t\telif(name=='madhan'):\n",
    "\t\t\treturn 3\n",
    "\t\telse:\n",
    "\t\t\treturn 5"
   ]
  },
  {
   "cell_type": "code",
   "execution_count": null,
   "metadata": {},
   "outputs": [],
   "source": []
  },
  {
   "cell_type": "code",
   "execution_count": 71,
   "metadata": {},
   "outputs": [],
   "source": [
    "def face_recognize2(dir,c): \n",
    "\t# Training the SVC classifier \n",
    "\t# The training data would be all the \n",
    "\t# face encodings from all the known \n",
    "\t# images and the labels are their names \n",
    "\tencodings = [] \n",
    "\tnames = [] \n",
    "\t# Training directory \n",
    "\tif dir[-1]!='/': \n",
    "\t\tdir += '/'\n",
    "\ttrain_dir = os.listdir(dir) \n",
    "\t# Loop through each person in the training directory \n",
    "\tfor person in train_dir: \n",
    "\t\t\tpred = (face_recognize(dir+person))\n",
    "\t\t\tcount.append(pred)\n",
    "\treturn count"
   ]
  },
  {
   "cell_type": "code",
   "execution_count": 72,
   "metadata": {
    "scrolled": true
   },
   "outputs": [
    {
     "name": "stdout",
     "output_type": "stream",
     "text": [
      "manohar\n"
     ]
    }
   ],
   "source": [
    "train_dir = '10im/test'\n",
    "c= 0\n",
    "val = face_recognize2(train_dir,c)\n",
    "predval = max(set(val), key = val.count)\n",
    "if predval==1:\n",
    "    print('rohith')\n",
    "if predval==2:\n",
    "    print('manohar')\n",
    "if predval==3:\n",
    "    print('madhan')\n",
    "if predval==4:\n",
    "    print('hemasai')\n",
    "if predval==5:\n",
    "    print('unknown')\n",
    "#print(max(val))"
   ]
  },
  {
   "cell_type": "code",
   "execution_count": null,
   "metadata": {},
   "outputs": [],
   "source": []
  },
  {
   "cell_type": "code",
   "execution_count": null,
   "metadata": {},
   "outputs": [],
   "source": []
  },
  {
   "cell_type": "code",
   "execution_count": null,
   "metadata": {},
   "outputs": [],
   "source": []
  },
  {
   "cell_type": "code",
   "execution_count": null,
   "metadata": {},
   "outputs": [],
   "source": []
  },
  {
   "cell_type": "code",
   "execution_count": null,
   "metadata": {},
   "outputs": [],
   "source": []
  }
 ],
 "metadata": {
  "kernelspec": {
   "display_name": "Python 3",
   "language": "python",
   "name": "python3"
  },
  "language_info": {
   "codemirror_mode": {
    "name": "ipython",
    "version": 3
   },
   "file_extension": ".py",
   "mimetype": "text/x-python",
   "name": "python",
   "nbconvert_exporter": "python",
   "pygments_lexer": "ipython3",
   "version": "3.6.9"
  }
 },
 "nbformat": 4,
 "nbformat_minor": 4
}
